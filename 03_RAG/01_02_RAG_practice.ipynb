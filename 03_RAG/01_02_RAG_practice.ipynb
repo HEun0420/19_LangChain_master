{
 "cells": [
  {
   "cell_type": "code",
   "execution_count": 2,
   "metadata": {},
   "outputs": [
    {
     "data": {
      "text/plain": [
       "True"
      ]
     },
     "execution_count": 2,
     "metadata": {},
     "output_type": "execute_result"
    }
   ],
   "source": [
    "from dotenv import load_dotenv\n",
    "\n",
    "load_dotenv()"
   ]
  },
  {
   "cell_type": "code",
   "execution_count": 6,
   "metadata": {},
   "outputs": [
    {
     "name": "stdout",
     "output_type": "stream",
     "text": [
      "문서의 페이지 수 : 25\n",
      "1. 정책/법제  \n",
      "2. 기업/산업 \n",
      "3. 기술/연구 \n",
      " 4. 인력/교육\n",
      "13\n",
      "메타, LLM의 품질과 정확성을 평가하는 ‘자가학습 평가자’ 개발\n",
      "n 메타가 인간이 주석을 단 데이터 대신 합성데이터를 활용하는 자가학습 방식으로 LLM을 훈련하여 \n",
      "LLM의 품질과 정확성을 평가하는 기법을 개발\n",
      "n 메타의 ‘라마 3-70B-인스트럭트’를 기반으로 한 자가학습 평가자 모델은 인간이 주석을 단 \n",
      "데이터로 학습한 모델과 비슷한 수준의 정확도를 달성\n",
      "KEY Contents\n",
      "£ 자가학습 평가자, 인간이 주석을 단 데이터로 훈련된 모델과 비슷한 정확도 달성\n",
      "n 메타 FAIR(Fundamental AI Research)가 2024년 8월 8일 LLM을 활용해 자가학습 방식으로 \n",
      "LLM의 품질과 정확성을 평가하는 ‘자가학습 평가자’ 관련 논문*을 공개\n",
      "  * Self-Taught Evaluators1)\n",
      "∙LLM은 종종 평가자 자체로 사용되어 모델 개선에 중요한 역할을 하나, LLM 평가자 훈련에는 인간이 \n",
      "주석을 단 방대한 데이터가 필요하며 해당 작업은 시간과 비용을 많이 필요로 함\n",
      "∙연구진은 합성데이터*를 활용해 인간이 데이터에 주석을 달 필요 없이 LLM 평가자를 교육하는 방법을 개발\n",
      "  * 실제 데이터의 특성과 패턴을 모방하여 인공적으로 생성된 데이터\n",
      "n 메타의 자가학습 평가자는 올바른 결과에 도달하는 추론 과정을 생성해 어떤 응답이 더 나은지 \n",
      "판단하는 ‘평가형 LLM(LLM-as-a-Judge)’을 기반으로 구축\n",
      "∙먼저 자가학습 평가자가 프롬프트(Prompt)에 대응해 한 쌍의 모델 응답을 생성하면 이중 더 뛰어난 \n",
      "응답(Good Response)을 선택하고 다른 응답(Bad Response)은 거부 \n",
      "∙이후 반복적 학습을 통해 모델의 추론 과정과 판단을 샘플링하며, 올바른 추론 과정을 생성하면 예제를 학습\n",
      "데이터에 추가한 최종 데이터(Judge Data)로 모델을 미세 조정하여 다음번 반복을 위한 업데이트를 진행\n",
      " <메타 FAIR의 자가학습 평가자 파이프라인>\n",
      "n 메타의 ‘라마 3-70B-인스트럭트’ 모델로 자가학습을 통한 전체 답변과 학습데이터의 생성을 진행한 \n",
      "결과, 자가학습 평가자는 인간이 주석을 단 데이터로 학습한 모델과 비슷한 수준의 정확도를 달성\n",
      "∙리워드벤치(RewardBench)* 평가에서 모델의 정확도는 인간의 개입 없이 5차례 반복 후 정확도가 \n",
      "75.4%에서 88.7%로 크게 개선되었으며, 이는 인간이 주석을 단 데이터로 학습한 모델과 대등한 수준\n",
      "  * 인간 피드백 기반으로 강화 학습된 모델이 인간 선호도와 얼마나 일치하는지를 평가하는 벤치마크\n",
      "☞ 출처: Venturebeat, Meta’s Self-Taught Evaluator enables LLMs to create their own training data, 2024.08.19.\n",
      "1) https://arxiv.org/pdf/2408.02666\n",
      "\n"
     ]
    }
   ],
   "source": [
    "from langchain_community.document_loaders import PyMuPDFLoader\n",
    "\n",
    "loader = PyMuPDFLoader(\"data/SPRi AI Brief_10월호_산업동향_F.pdf\")\n",
    "docs = loader.load()\n",
    "\n",
    "print(f\"문서의 페이지 수 : {len(docs)}\")\n",
    "\n",
    "print(docs[15].page_content)"
   ]
  },
  {
   "cell_type": "code",
   "execution_count": 8,
   "metadata": {},
   "outputs": [
    {
     "name": "stdout",
     "output_type": "stream",
     "text": [
      "분할된 정크의 수: 499\n"
     ]
    }
   ],
   "source": [
    "## 문서 분할\n",
    "from langchain_text_splitters import RecursiveCharacterTextSplitter\n",
    "\n",
    "text_splitter = RecursiveCharacterTextSplitter(chunk_size = 100, chunk_overlap = 10)\n",
    "\n",
    "split_documents = text_splitter.split_documents(docs)\n",
    "\n",
    "print(f\"분할된 정크의 수: {len(split_documents)}\")"
   ]
  },
  {
   "cell_type": "code",
   "execution_count": 10,
   "metadata": {},
   "outputs": [],
   "source": [
    "## 임베딩\n",
    "from langchain_openai import OpenAIEmbeddings\n",
    "\n",
    "embeddings = OpenAIEmbeddings()"
   ]
  },
  {
   "cell_type": "code",
   "execution_count": 14,
   "metadata": {},
   "outputs": [
    {
     "name": "stdout",
     "output_type": "stream",
     "text": [
      "Requirement already satisfied: faiss-cpu in c:\\users\\20111\\appdata\\local\\miniforge3\\envs\\langchain\\lib\\site-packages (1.9.0)\n",
      "Requirement already satisfied: numpy<3.0,>=1.25.0 in c:\\users\\20111\\appdata\\local\\miniforge3\\envs\\langchain\\lib\\site-packages (from faiss-cpu) (1.26.4)\n",
      "Requirement already satisfied: packaging in c:\\users\\20111\\appdata\\local\\miniforge3\\envs\\langchain\\lib\\site-packages (from faiss-cpu) (24.1)\n"
     ]
    }
   ],
   "source": [
    "!pip install faiss-cpu"
   ]
  },
  {
   "cell_type": "code",
   "execution_count": 17,
   "metadata": {},
   "outputs": [],
   "source": [
    "from langchain_community.vectorstores import FAISS\n",
    "\n",
    "vectorstore = FAISS.from_documents(documents=split_documents, embedding=embeddings)"
   ]
  },
  {
   "cell_type": "code",
   "execution_count": 21,
   "metadata": {},
   "outputs": [
    {
     "name": "stdout",
     "output_type": "stream",
     "text": [
      "받는 등 상업적 관계를 확대하고 있다며, 이러한 관계가 불공정한 평가로 이어질 가능성도 제기\n",
      "일자리가 늘어날 것이라는 응답은 11%, 영향이 없을 것이라는 응답은 28%를 기록\n",
      "n 미국 여론조사기업 유고브(YouGov)가 2024년 8월 28일 발표한 설문조사 결과, 미국 근로자들은 \n",
      "AI 기술 발전이 일자리에 미치는 영향에 대하여 엇갈린 의견을 표시\n",
      "▹ 유고브 조사 결과, 미국 근로자들 AI의 일자리 영향에 엇갈린 의견 표시······················· 18\n"
     ]
    }
   ],
   "source": [
    "for doc in vectorstore.similarity_search(\"영향\"):\n",
    "    print(doc.page_content)"
   ]
  },
  {
   "cell_type": "code",
   "execution_count": 22,
   "metadata": {},
   "outputs": [],
   "source": [
    "### 검색기 생성\n",
    "retriever = vectorstore.as_retriever()"
   ]
  },
  {
   "cell_type": "code",
   "execution_count": 23,
   "metadata": {},
   "outputs": [
    {
     "data": {
      "text/plain": [
       "[Document(metadata={'source': 'data/SPRi AI Brief_10월호_산업동향_F.pdf', 'file_path': 'data/SPRi AI Brief_10월호_산업동향_F.pdf', 'page': 20, 'total_pages': 25, 'format': 'PDF 1.4', 'title': '', 'author': 'dj', 'subject': '', 'keywords': '', 'creator': 'Hwp 2018 10.0.0.13947', 'producer': 'Hancom PDF 1.3.0.547', 'creationDate': \"D:20241007090546+09'00'\", 'modDate': \"D:20241007090546+09'00'\", 'trapped': ''}, page_content='n 미국 여론조사기업 유고브(YouGov)가 2024년 8월 28일 발표한 설문조사 결과, 미국 근로자들은 \\nAI 기술 발전이 일자리에 미치는 영향에 대하여 엇갈린 의견을 표시'),\n",
       " Document(metadata={'source': 'data/SPRi AI Brief_10월호_산업동향_F.pdf', 'file_path': 'data/SPRi AI Brief_10월호_산업동향_F.pdf', 'page': 20, 'total_pages': 25, 'format': 'PDF 1.4', 'title': '', 'author': 'dj', 'subject': '', 'keywords': '', 'creator': 'Hwp 2018 10.0.0.13947', 'producer': 'Hancom PDF 1.3.0.547', 'creationDate': \"D:20241007090546+09'00'\", 'modDate': \"D:20241007090546+09'00'\", 'trapped': ''}, page_content='n 유고브의 조사 결과, 미국 근로자의 48%는 AI의 발전으로 일자리가 줄어들 것으로 \\n예상했으며, 34%는 AI로 인한 실직이나 근무 시간 또는 급여 감소를 우려'),\n",
       " Document(metadata={'source': 'data/SPRi AI Brief_10월호_산업동향_F.pdf', 'file_path': 'data/SPRi AI Brief_10월호_산업동향_F.pdf', 'page': 1, 'total_pages': 25, 'format': 'PDF 1.4', 'title': '', 'author': 'dj', 'subject': '', 'keywords': '', 'creator': 'Hwp 2018 10.0.0.13947', 'producer': 'Hancom PDF 1.3.0.547', 'creationDate': \"D:20241007090546+09'00'\", 'modDate': \"D:20241007090546+09'00'\", 'trapped': ''}, page_content='▹ 유고브 조사 결과, 미국 근로자들 AI의 일자리 영향에 엇갈린 의견 표시······················· 18'),\n",
       " Document(metadata={'source': 'data/SPRi AI Brief_10월호_산업동향_F.pdf', 'file_path': 'data/SPRi AI Brief_10월호_산업동향_F.pdf', 'page': 20, 'total_pages': 25, 'format': 'PDF 1.4', 'title': '', 'author': 'dj', 'subject': '', 'keywords': '', 'creator': 'Hwp 2018 10.0.0.13947', 'producer': 'Hancom PDF 1.3.0.547', 'creationDate': \"D:20241007090546+09'00'\", 'modDate': \"D:20241007090546+09'00'\", 'trapped': ''}, page_content='∙2024년 8월 8일~ 8월 10일 1,098명의 미국 성인을 대상으로 실시된 온라인 설문조사 결과, 미국 \\n근로자의 41%는 일자리 시장이 나쁘다고 인식')]"
      ]
     },
     "execution_count": 23,
     "metadata": {},
     "output_type": "execute_result"
    }
   ],
   "source": [
    "retriever.invoke(\"미국에서 연구한 결과는?\")"
   ]
  },
  {
   "cell_type": "code",
   "execution_count": 24,
   "metadata": {},
   "outputs": [],
   "source": [
    "from langchain_core.prompts import PromptTemplate\n",
    "prompt = PromptTemplate.from_template(\n",
    "    \"\"\"You are an assistant for question-answering tasks. \n",
    "Use the following pieces of retrieved context to answer the question.\n",
    "Use a very kind and gentle tone like a kindergarten teacher talking to a child.\n",
    "Speak in a warm and friendly way.\n",
    "If you don't know the answer, just say that you don't know. \n",
    "Answer in Korean.\n",
    "\n",
    "#Context: \n",
    "{context}\n",
    "\n",
    "#Question:\n",
    "{question}\n",
    "\n",
    "#Answer:\"\"\"\n",
    ")"
   ]
  },
  {
   "cell_type": "code",
   "execution_count": 25,
   "metadata": {},
   "outputs": [],
   "source": [
    "from langchain_openai import ChatOpenAI\n",
    "llm = ChatOpenAI(model=\"gpt-4o\", temperature=0)"
   ]
  },
  {
   "cell_type": "code",
   "execution_count": 26,
   "metadata": {},
   "outputs": [],
   "source": [
    "# chain\n",
    "from langchain_core.runnables import RunnablePassthrough\n",
    "from langchain_core.output_parsers import StrOutputParser\n",
    "\n",
    "chain = (\n",
    "    {\"context\": retriever, \"question\": RunnablePassthrough()}\n",
    "    | prompt\n",
    "    | llm\n",
    "    | StrOutputParser()\n",
    ")"
   ]
  },
  {
   "cell_type": "code",
   "execution_count": 27,
   "metadata": {},
   "outputs": [
    {
     "name": "stdout",
     "output_type": "stream",
     "text": [
      "미안하지만, 미국의 달러가 얼마나 있는지는 잘 모르겠어요. 다른 궁금한 것이 있으면 언제든지 물어봐 주세요!\n"
     ]
    }
   ],
   "source": [
    "# 체인 실행\n",
    "\n",
    "question = \"미국의 달러는 얼마나 있어?\"\n",
    "response = chain.invoke(question)\n",
    "\n",
    "print(response)"
   ]
  }
 ],
 "metadata": {
  "kernelspec": {
   "display_name": "langchain",
   "language": "python",
   "name": "python3"
  },
  "language_info": {
   "codemirror_mode": {
    "name": "ipython",
    "version": 3
   },
   "file_extension": ".py",
   "mimetype": "text/x-python",
   "name": "python",
   "nbconvert_exporter": "python",
   "pygments_lexer": "ipython3",
   "version": "3.11.0"
  }
 },
 "nbformat": 4,
 "nbformat_minor": 2
}
