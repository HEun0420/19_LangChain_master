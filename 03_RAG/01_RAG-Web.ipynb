{
 "cells": [
  {
   "cell_type": "code",
   "execution_count": 7,
   "metadata": {},
   "outputs": [
    {
     "name": "stdout",
     "output_type": "stream",
     "text": [
      "아파트는 현재 빌보드 '핫100' 차트에서 8위입니다.\n"
     ]
    }
   ],
   "source": [
    "from dotenv import load_dotenv\n",
    "from langchain_community.document_loaders import WebBaseLoader\n",
    "import bs4\n",
    "from langchain_text_splitters import RecursiveCharacterTextSplitter\n",
    "from langchain_openai import OpenAIEmbeddings, ChatOpenAI\n",
    "from langchain_community.vectorstores import FAISS\n",
    "from langchain_core.prompts import PromptTemplate\n",
    "from langchain_core.output_parsers import StrOutputParser\n",
    "from langchain_core.runnables import RunnablePassthrough\n",
    "\n",
    "\n",
    "# 환경변수 가져오기\n",
    "load_dotenv()\n",
    "\n",
    "loader = WebBaseLoader(\n",
    "    web_path=(\"https://n.news.naver.com/article/437/0000416134\"),\n",
    "    bs_kwargs=dict(\n",
    "        # 특정 element만 파싱하도록 제한하는 필터 적용\n",
    "        parse_only=bs4.SoupStrainer(\n",
    "            \"div\",\n",
    "            attrs={\"class\":[\"newsct_article _article_body\", \"media_end_head go_trans\"]}\n",
    "        )\n",
    "    )\n",
    ")\n",
    "\n",
    "docs = loader.load()\n",
    "\n",
    "# print(docs)\n",
    "\n",
    "# 문서분할\n",
    "text_splitter = RecursiveCharacterTextSplitter(chunk_size=100, chunk_overlap=10)\n",
    "\n",
    "splits = text_splitter.split_documents(docs)\n",
    "\n",
    "# 임베딩 생성\n",
    "embedding = OpenAIEmbeddings()\n",
    "\n",
    "# 벡터스토어 생성\n",
    "vectorstore = FAISS.from_documents(documents=splits, embedding=embedding)\n",
    "\n",
    "# 검색기 (retriver) 생성\n",
    "retriver = vectorstore.as_retriever()\n",
    "\n",
    "# runtime\n",
    "\n",
    "# 프롬프트\n",
    "prompt = PromptTemplate.from_template(\n",
    "\"\"\"\n",
    "당신은 질문-답변을 수행하는 AI 어시스턴트이다.\n",
    "주어진 문맥에 검색된 다음문맥(context)를 사용해 질문에 답해야 한다.\n",
    "만약 주어진 문맥에서 답을 찾을 수 없는 경우, 모른다고 이야기하세요.\n",
    "한글로 답변해주세요.\n",
    "\n",
    "#Question\n",
    "{question}\n",
    "\n",
    "#Context\n",
    "{context}\n",
    "\n",
    "#Answer:\n",
    "\n",
    "\"\"\"\n",
    ")\n",
    "\n",
    "# LLM 모델\n",
    "llm = ChatOpenAI(model=\"gpt-4o\", temperature=0)\n",
    "\n",
    "# Chain 구성\n",
    "news_chain =(\n",
    "    {\"context\": retriver, \"question\": RunnablePassthrough()}\n",
    "    | prompt\n",
    "    |llm\n",
    "    |StrOutputParser()\n",
    ")\n",
    "\n",
    "# 질문\n",
    "answer = news_chain.invoke(\"아파트는 지금 몇위야??\")\n",
    "\n",
    "print(answer)\n",
    "\n"
   ]
  },
  {
   "cell_type": "code",
   "execution_count": null,
   "metadata": {},
   "outputs": [],
   "source": []
  },
  {
   "cell_type": "code",
   "execution_count": null,
   "metadata": {},
   "outputs": [],
   "source": []
  },
  {
   "cell_type": "code",
   "execution_count": null,
   "metadata": {},
   "outputs": [],
   "source": []
  },
  {
   "cell_type": "code",
   "execution_count": null,
   "metadata": {},
   "outputs": [],
   "source": []
  }
 ],
 "metadata": {
  "kernelspec": {
   "display_name": "langchain",
   "language": "python",
   "name": "python3"
  },
  "language_info": {
   "codemirror_mode": {
    "name": "ipython",
    "version": 3
   },
   "file_extension": ".py",
   "mimetype": "text/x-python",
   "name": "python",
   "nbconvert_exporter": "python",
   "pygments_lexer": "ipython3",
   "version": "3.11.0"
  }
 },
 "nbformat": 4,
 "nbformat_minor": 2
}
